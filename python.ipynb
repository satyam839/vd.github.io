{
  "nbformat": 4,
  "nbformat_minor": 0,
  "metadata": {
    "colab": {
      "provenance": [],
      "authorship_tag": "ABX9TyOpS8qYgqwgfHFU89L4ePze",
      "include_colab_link": true
    },
    "kernelspec": {
      "name": "python3",
      "display_name": "Python 3"
    },
    "language_info": {
      "name": "python"
    }
  },
  "cells": [
    {
      "cell_type": "markdown",
      "metadata": {
        "id": "view-in-github",
        "colab_type": "text"
      },
      "source": [
        "<a href=\"https://colab.research.google.com/github/satyam839/vd.github.io/blob/main/python.ipynb\" target=\"_parent\"><img src=\"https://colab.research.google.com/assets/colab-badge.svg\" alt=\"Open In Colab\"/></a>"
      ]
    },
    {
      "cell_type": "code",
      "execution_count": null,
      "metadata": {
        "id": "EJPkZDGt_s3_"
      },
      "outputs": [],
      "source": []
    },
    {
      "cell_type": "markdown",
      "source": [
        "1. swapping two number\n"
      ],
      "metadata": {
        "id": "gEDuemRUs6yX"
      }
    },
    {
      "cell_type": "code",
      "source": [
        "Hulk_score = 100\n",
        "Thor_score = 200\n",
        "print(\"INTINAL SCORE\")\n",
        "print(f\"Hulk_score :- {Hulk_score}\")\n",
        "print(f\"Thor_score :- {Thor_score}\")\n",
        "print(\"AFTER SWAPPING\")\n",
        "Hulk_score,Thor_score = Thor_score,Hulk_score\n",
        "print(f\"Hulk_score :- {Hulk_score}\")\n",
        "print(f\"Thor_score :- {Thor_score}\")"
      ],
      "metadata": {
        "colab": {
          "base_uri": "https://localhost:8080/"
        },
        "id": "K2O-naavtWWt",
        "outputId": "83ac0316-c66b-4284-8359-5abf55c9034b"
      },
      "execution_count": null,
      "outputs": [
        {
          "output_type": "stream",
          "name": "stdout",
          "text": [
            "INTINAL SCORE\n",
            "Hulk_score :- 100\n",
            "Thor_score :- 200\n",
            "AFTER SWAPPING\n",
            "Hulk_score :- 200\n",
            "Thor_score :- 100\n"
          ]
        }
      ]
    },
    {
      "cell_type": "markdown",
      "source": [
        "2. Hulk's strength level is recorded as a string input \"1000\" convert it into an integer and increase it by 200"
      ],
      "metadata": {
        "id": "s90vKmBntXAo"
      }
    },
    {
      "cell_type": "code",
      "source": [
        "Hulk_strength = \"1000\"\n",
        "Hulk_strength_1 = int(Hulk_strength)\n",
        "print(f\"Hulk'strength :- {Hulk_strength_1}\")\n",
        "print(\"After increases it by 200\")\n",
        "Hulk_strength_1 = Hulk_strength_1+200\n",
        "print(f\"Hulk'strength :- {Hulk_strength_1}\")"
      ],
      "metadata": {
        "colab": {
          "base_uri": "https://localhost:8080/"
        },
        "id": "vVnMryUzuLR_",
        "outputId": "c4bb3f17-8d56-41a9-fd09-8593250565c4"
      },
      "execution_count": null,
      "outputs": [
        {
          "output_type": "stream",
          "name": "stdout",
          "text": [
            "Hulk'strength :- 1000\n",
            "After increases it by 200\n",
            "Hulk'strength :- 1200\n"
          ]
        }
      ]
    },
    {
      "cell_type": "markdown",
      "source": [
        "3. Thor hammer weight is 5000 but you need to calculate the gravitational force which requires it as a float"
      ],
      "metadata": {
        "id": "mecmDthquOR8"
      }
    },
    {
      "cell_type": "code",
      "source": [
        "weight = 5000\n",
        "gravitational_force = float(weight*9.8)\n",
        "print(f\"Gravitational_force :- {gravitational_force}\")"
      ],
      "metadata": {
        "colab": {
          "base_uri": "https://localhost:8080/"
        },
        "id": "71UWrn9Dupjk",
        "outputId": "6efac088-3a3b-40a1-e8a2-622ae67790fb"
      },
      "execution_count": null,
      "outputs": [
        {
          "output_type": "stream",
          "name": "stdout",
          "text": [
            "Gravitational_force :- 49000.0\n"
          ]
        }
      ]
    },
    {
      "cell_type": "markdown",
      "source": [
        "4.Loki gets input in seconds (as string) \"3600\" convert it into an integer and then to hours . show final results as a float."
      ],
      "metadata": {
        "id": "zh2zHvBrup2R"
      }
    },
    {
      "cell_type": "code",
      "source": [
        "seconds = \"3600\"\n",
        "second = int(seconds)\n",
        "hours = float(second / 3600)\n",
        "print(f\"Hours :- {hours}\")"
      ],
      "metadata": {
        "colab": {
          "base_uri": "https://localhost:8080/"
        },
        "id": "oohsPrpCvM0l",
        "outputId": "41649f26-c19d-41ed-c334-d9eabc01f7d7"
      },
      "execution_count": null,
      "outputs": [
        {
          "output_type": "stream",
          "name": "stdout",
          "text": [
            "Hours :- 1.0\n"
          ]
        }
      ]
    },
    {
      "cell_type": "markdown",
      "source": [
        "5. Iron man recorded 7 hits out of 10 shots (both integer) convert them into float and calculate accuracy percentage."
      ],
      "metadata": {
        "id": "EmWU3GHhvNFw"
      }
    },
    {
      "cell_type": "code",
      "source": [
        "hits = 7\n",
        "total_shots = 10\n",
        "accuracy = float((hits/total_shots)*100)\n",
        "print(f\"Accurancy :- :{accuracy:.2f}%\")"
      ],
      "metadata": {
        "colab": {
          "base_uri": "https://localhost:8080/"
        },
        "id": "wTjezhbbvnfG",
        "outputId": "ba57b523-6eae-4f5d-fe26-7b32e86ecc1d"
      },
      "execution_count": null,
      "outputs": [
        {
          "output_type": "stream",
          "name": "stdout",
          "text": [
            "Accurancy :- :70.00%\n"
          ]
        }
      ]
    },
    {
      "cell_type": "code",
      "source": [],
      "metadata": {
        "id": "yqfSvlchvqBp"
      },
      "execution_count": null,
      "outputs": []
    }
  ]
}